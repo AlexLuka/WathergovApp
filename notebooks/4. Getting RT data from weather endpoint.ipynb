{
 "cells": [
  {
   "cell_type": "code",
   "execution_count": 13,
   "id": "77062214-90be-4092-86fa-e77a87cc06f5",
   "metadata": {},
   "outputs": [],
   "source": [
    "import os\n",
    "import sys\n",
    "import random\n",
    "import requests\n",
    "\n",
    "from time import time\n",
    "from dotenv import load_dotenv\n",
    "\n",
    "sys.path.append(\"/Users/alexeylukyanov/Projects/WeatherData/src\")\n",
    "from weathergov.constants import APP_NAME\n",
    "from weathergov.utils.redis_utils import RedisClient, RedisKeys"
   ]
  },
  {
   "cell_type": "code",
   "execution_count": 2,
   "id": "baef57d7-330f-433c-a021-3db0f34f6f86",
   "metadata": {},
   "outputs": [
    {
     "data": {
      "text/plain": [
       "True"
      ]
     },
     "execution_count": 2,
     "metadata": {},
     "output_type": "execute_result"
    }
   ],
   "source": [
    "load_dotenv()"
   ]
  },
  {
   "cell_type": "code",
   "execution_count": 6,
   "id": "8e4530f0-3e8c-405f-a946-7cb0c9792e1f",
   "metadata": {},
   "outputs": [],
   "source": [
    "weather_gov_api_url = os.environ.get('WEATHER_GOV_API_URL')"
   ]
  },
  {
   "cell_type": "code",
   "execution_count": 7,
   "id": "aca0d28f-2322-4304-bcff-7422a5fee2f3",
   "metadata": {},
   "outputs": [],
   "source": [
    "headers = {\n",
    "    \"User-Agent\": APP_NAME\n",
    "}"
   ]
  },
  {
   "cell_type": "code",
   "execution_count": 9,
   "id": "efb06ff0-1068-42a1-ad6f-7c484567e5c9",
   "metadata": {},
   "outputs": [],
   "source": [
    "rc = RedisClient()"
   ]
  },
  {
   "cell_type": "code",
   "execution_count": null,
   "id": "120ed6b0-9c93-41f1-9d4a-a73d6b8819c6",
   "metadata": {},
   "outputs": [],
   "source": []
  },
  {
   "cell_type": "code",
   "execution_count": 10,
   "id": "a762e7ed-6506-4cdb-9446-7a1141e3d10b",
   "metadata": {},
   "outputs": [],
   "source": [
    "stations_ids = rc.rc.smembers(\"weather_station:weather.gov:station_ids\")"
   ]
  },
  {
   "cell_type": "code",
   "execution_count": 11,
   "id": "5b55a058-8122-453a-b744-639f49e6d03d",
   "metadata": {},
   "outputs": [],
   "source": [
    "stations_ids = list(stations_ids)"
   ]
  },
  {
   "cell_type": "code",
   "execution_count": 15,
   "id": "a96f407e-de7a-4c4c-8d62-aa553810fa10",
   "metadata": {},
   "outputs": [],
   "source": [
    "station_id = random.choice(stations_ids)"
   ]
  },
  {
   "cell_type": "code",
   "execution_count": 17,
   "id": "03d7b5ae-ff4b-4e98-bc9c-384176b0d2af",
   "metadata": {},
   "outputs": [],
   "source": [
    "res = requests.get(f\"{weather_gov_api_url}/stations/{station_id}/observations/latest\")"
   ]
  },
  {
   "cell_type": "code",
   "execution_count": 18,
   "id": "364b520c-b308-4072-97ea-7113fe6f2b33",
   "metadata": {},
   "outputs": [],
   "source": [
    "rj = res.json()"
   ]
  },
  {
   "cell_type": "code",
   "execution_count": 19,
   "id": "de8ac9cb-1ed0-4286-9510-0204c88e9b39",
   "metadata": {},
   "outputs": [
    {
     "data": {
      "text/plain": [
       "{'@context': ['https://geojson.org/geojson-ld/geojson-context.jsonld',\n",
       "  {'@version': '1.1',\n",
       "   'wx': 'https://api.weather.gov/ontology#',\n",
       "   's': 'https://schema.org/',\n",
       "   'geo': 'http://www.opengis.net/ont/geosparql#',\n",
       "   'unit': 'http://codes.wmo.int/common/unit/',\n",
       "   '@vocab': 'https://api.weather.gov/ontology#',\n",
       "   'geometry': {'@id': 's:GeoCoordinates', '@type': 'geo:wktLiteral'},\n",
       "   'city': 's:addressLocality',\n",
       "   'state': 's:addressRegion',\n",
       "   'distance': {'@id': 's:Distance', '@type': 's:QuantitativeValue'},\n",
       "   'bearing': {'@type': 's:QuantitativeValue'},\n",
       "   'value': {'@id': 's:value'},\n",
       "   'unitCode': {'@id': 's:unitCode', '@type': '@id'},\n",
       "   'forecastOffice': {'@type': '@id'},\n",
       "   'forecastGridData': {'@type': '@id'},\n",
       "   'publicZone': {'@type': '@id'},\n",
       "   'county': {'@type': '@id'}}],\n",
       " 'id': 'https://api.weather.gov/stations/E6538/observations/2024-07-16T15:50:00+00:00',\n",
       " 'type': 'Feature',\n",
       " 'geometry': {'type': 'Point', 'coordinates': [-116.88, 46.28]},\n",
       " 'properties': {'@id': 'https://api.weather.gov/stations/E6538/observations/2024-07-16T15:50:00+00:00',\n",
       "  '@type': 'wx:ObservationStation',\n",
       "  'elevation': {'unitCode': 'wmoUnit:m', 'value': 780.11},\n",
       "  'station': 'https://api.weather.gov/stations/E6538',\n",
       "  'timestamp': '2024-07-16T15:50:00+00:00',\n",
       "  'rawMessage': '',\n",
       "  'textDescription': '',\n",
       "  'icon': None,\n",
       "  'presentWeather': [],\n",
       "  'temperature': {'unitCode': 'wmoUnit:degC',\n",
       "   'value': None,\n",
       "   'qualityControl': 'Z'},\n",
       "  'dewpoint': {'unitCode': 'wmoUnit:degC',\n",
       "   'value': None,\n",
       "   'qualityControl': 'Z'},\n",
       "  'windDirection': {'unitCode': 'wmoUnit:degree_(angle)',\n",
       "   'value': None,\n",
       "   'qualityControl': 'Z'},\n",
       "  'windSpeed': {'unitCode': 'wmoUnit:km_h-1',\n",
       "   'value': None,\n",
       "   'qualityControl': 'Z'},\n",
       "  'windGust': {'unitCode': 'wmoUnit:km_h-1',\n",
       "   'value': 8.064,\n",
       "   'qualityControl': 'S'},\n",
       "  'barometricPressure': {'unitCode': 'wmoUnit:Pa',\n",
       "   'value': None,\n",
       "   'qualityControl': 'Z'},\n",
       "  'seaLevelPressure': {'unitCode': 'wmoUnit:Pa',\n",
       "   'value': None,\n",
       "   'qualityControl': 'Z'},\n",
       "  'visibility': {'unitCode': 'wmoUnit:m',\n",
       "   'value': None,\n",
       "   'qualityControl': 'Z'},\n",
       "  'maxTemperatureLast24Hours': {'unitCode': 'wmoUnit:degC', 'value': None},\n",
       "  'minTemperatureLast24Hours': {'unitCode': 'wmoUnit:degC', 'value': None},\n",
       "  'precipitationLast3Hours': {'unitCode': 'wmoUnit:mm',\n",
       "   'value': None,\n",
       "   'qualityControl': 'Z'},\n",
       "  'relativeHumidity': {'unitCode': 'wmoUnit:percent',\n",
       "   'value': None,\n",
       "   'qualityControl': 'Z'},\n",
       "  'windChill': {'unitCode': 'wmoUnit:degC',\n",
       "   'value': None,\n",
       "   'qualityControl': 'Z'},\n",
       "  'heatIndex': {'unitCode': 'wmoUnit:degC',\n",
       "   'value': None,\n",
       "   'qualityControl': 'Z'},\n",
       "  'cloudLayers': []}}"
      ]
     },
     "execution_count": 19,
     "metadata": {},
     "output_type": "execute_result"
    }
   ],
   "source": [
    "rj"
   ]
  },
  {
   "cell_type": "code",
   "execution_count": 20,
   "id": "046d805f-6cec-4abd-b059-948f84e83a69",
   "metadata": {},
   "outputs": [
    {
     "data": {
      "text/plain": [
       "dict_keys(['@context', 'id', 'type', 'geometry', 'properties'])"
      ]
     },
     "execution_count": 20,
     "metadata": {},
     "output_type": "execute_result"
    }
   ],
   "source": [
    "rj.keys()"
   ]
  },
  {
   "cell_type": "code",
   "execution_count": 21,
   "id": "807c7e5f-a1e9-4242-8132-280c46a3d0cf",
   "metadata": {},
   "outputs": [
    {
     "data": {
      "text/plain": [
       "{'unitCode': 'wmoUnit:Pa', 'value': None, 'qualityControl': 'Z'}"
      ]
     },
     "execution_count": 21,
     "metadata": {},
     "output_type": "execute_result"
    }
   ],
   "source": [
    "rj['properties']['seaLevelPressure']"
   ]
  },
  {
   "cell_type": "code",
   "execution_count": null,
   "id": "51708dc3-7a65-4605-86df-9f03a97901bb",
   "metadata": {},
   "outputs": [],
   "source": []
  }
 ],
 "metadata": {
  "kernelspec": {
   "display_name": "Python 3 (ipykernel)",
   "language": "python",
   "name": "python3"
  },
  "language_info": {
   "codemirror_mode": {
    "name": "ipython",
    "version": 3
   },
   "file_extension": ".py",
   "mimetype": "text/x-python",
   "name": "python",
   "nbconvert_exporter": "python",
   "pygments_lexer": "ipython3",
   "version": "3.11.9"
  }
 },
 "nbformat": 4,
 "nbformat_minor": 5
}
