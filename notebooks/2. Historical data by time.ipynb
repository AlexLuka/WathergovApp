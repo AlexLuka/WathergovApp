{
 "cells": [
  {
   "cell_type": "markdown",
   "id": "6f7361c0-32fc-458e-ac7c-d0a7ccab036e",
   "metadata": {},
   "source": [
    "# 2. Explore stations data by specific time"
   ]
  },
  {
   "cell_type": "code",
   "execution_count": 72,
   "id": "cd5fa24e-abfe-4dde-b3c5-a868337b3132",
   "metadata": {},
   "outputs": [],
   "source": [
    "import os\n",
    "import sys\n",
    "import json\n",
    "import random\n",
    "import requests\n",
    "import plotly.graph_objects as go\n",
    "\n",
    "from time import sleep\n",
    "from tqdm import tqdm\n",
    "from redis import Redis\n",
    "from dotenv import load_dotenv\n",
    "\n",
    "sys.path.append(\"/Users/alexeylukyanov/Projects/WeatherData/src\")\n",
    "from weathergov.constants import APP_NAME\n",
    "from weathergov.utils.redis_utils import RedisInfo"
   ]
  },
  {
   "cell_type": "markdown",
   "id": "fe097ddd-adfe-4a32-a810-d657d9bf8b08",
   "metadata": {},
   "source": [
    "### Constants"
   ]
  },
  {
   "cell_type": "code",
   "execution_count": 3,
   "id": "8321bd93-6ecb-4fd3-b4aa-cde0cbffa95d",
   "metadata": {},
   "outputs": [
    {
     "data": {
      "text/plain": [
       "True"
      ]
     },
     "execution_count": 3,
     "metadata": {},
     "output_type": "execute_result"
    }
   ],
   "source": [
    "load_dotenv()"
   ]
  },
  {
   "cell_type": "code",
   "execution_count": 4,
   "id": "8f740c77-f7b5-476d-89af-f7e946380aee",
   "metadata": {},
   "outputs": [],
   "source": [
    "weather_gov_api_url = os.environ.get('WEATHER_GOV_API_URL')"
   ]
  },
  {
   "cell_type": "code",
   "execution_count": 5,
   "id": "558ff873-101d-454c-b94d-68f98bc668dc",
   "metadata": {},
   "outputs": [
    {
     "data": {
      "text/plain": [
       "'https://api.weather.gov'"
      ]
     },
     "execution_count": 5,
     "metadata": {},
     "output_type": "execute_result"
    }
   ],
   "source": [
    "weather_gov_api_url"
   ]
  },
  {
   "cell_type": "code",
   "execution_count": 18,
   "id": "42bb8967-3484-4645-a165-eae6a400fe91",
   "metadata": {},
   "outputs": [],
   "source": [
    "headers = {\n",
    "    \"User-Agent\": APP_NAME\n",
    "}"
   ]
  },
  {
   "cell_type": "code",
   "execution_count": 8,
   "id": "a9cb816f-a3fe-4cea-bc2a-1b642efb0185",
   "metadata": {},
   "outputs": [],
   "source": [
    "ri = RedisInfo.load()"
   ]
  },
  {
   "cell_type": "code",
   "execution_count": 9,
   "id": "0e575b03-e79e-4eb2-9f2f-d329183ff43d",
   "metadata": {},
   "outputs": [
    {
     "data": {
      "text/plain": [
       "'localhost'"
      ]
     },
     "execution_count": 9,
     "metadata": {},
     "output_type": "execute_result"
    }
   ],
   "source": [
    "ri.host"
   ]
  },
  {
   "cell_type": "code",
   "execution_count": 13,
   "id": "5da47846-1d56-4963-a88a-7a54297c3f0e",
   "metadata": {},
   "outputs": [],
   "source": [
    "rc = Redis(\n",
    "    host=ri.host,\n",
    "    port=ri.port,\n",
    "    password=ri.password,\n",
    "    decode_responses=True\n",
    ")"
   ]
  },
  {
   "cell_type": "markdown",
   "id": "5c472810-8375-4d2f-a0c5-ddb5ab41d1c7",
   "metadata": {},
   "source": [
    "### Get all the station IDs"
   ]
  },
  {
   "cell_type": "code",
   "execution_count": 53,
   "id": "e2032fc6-8295-4fc8-a48f-662950b6d058",
   "metadata": {},
   "outputs": [],
   "source": [
    "stations_ids = rc.smembers(\"weather_station:weather.gov:station_ids\")"
   ]
  },
  {
   "cell_type": "code",
   "execution_count": 54,
   "id": "763d440c-2565-48a7-ad98-c7d3b5b1277b",
   "metadata": {},
   "outputs": [],
   "source": [
    "stations_ids = list(stations_ids)"
   ]
  },
  {
   "cell_type": "code",
   "execution_count": 56,
   "id": "7cca8cc5-17d0-49c9-9343-b3c377fde61f",
   "metadata": {},
   "outputs": [
    {
     "data": {
      "text/plain": [
       "46483"
      ]
     },
     "execution_count": 56,
     "metadata": {},
     "output_type": "execute_result"
    }
   ],
   "source": [
    "len(stations_ids)"
   ]
  },
  {
   "cell_type": "code",
   "execution_count": 59,
   "id": "088172ef-261c-42fc-b1af-736e690e030d",
   "metadata": {},
   "outputs": [
    {
     "data": {
      "text/plain": [
       "'COOPCSAT2'"
      ]
     },
     "execution_count": 59,
     "metadata": {},
     "output_type": "execute_result"
    }
   ],
   "source": [
    "random.choice(stations_ids)"
   ]
  },
  {
   "cell_type": "code",
   "execution_count": 30,
   "id": "dd77ac97-b63e-499a-a46a-77c6756506f4",
   "metadata": {},
   "outputs": [],
   "source": [
    "obs_time = \"2024-07-11T22:59:00+00:00\""
   ]
  },
  {
   "cell_type": "code",
   "execution_count": 31,
   "id": "12e0fc54-ace2-4942-80db-259f1c170f06",
   "metadata": {},
   "outputs": [],
   "source": [
    "response = requests.get(f\"{weather_gov_api_url}/stations/{random.choice(stations_ids)}/observations/{obs_time}\", headers=headers)"
   ]
  },
  {
   "cell_type": "code",
   "execution_count": 32,
   "id": "a305725e-b073-4d76-a826-65a7bb2c163f",
   "metadata": {},
   "outputs": [
    {
     "data": {
      "text/plain": [
       "{'correlationId': '6ffcdf11',\n",
       " 'title': 'Not Found',\n",
       " 'type': 'https://api.weather.gov/problems/NotFound',\n",
       " 'status': 404,\n",
       " 'detail': 'Not Found',\n",
       " 'instance': 'https://api.weather.gov/requests/6ffcdf11'}"
      ]
     },
     "execution_count": 32,
     "metadata": {},
     "output_type": "execute_result"
    }
   ],
   "source": [
    "response.json()"
   ]
  },
  {
   "cell_type": "code",
   "execution_count": 60,
   "id": "502e264d-fdd8-48da-a5e6-cd162a874540",
   "metadata": {},
   "outputs": [],
   "source": [
    "station_id = random.choice(stations_ids)"
   ]
  },
  {
   "cell_type": "code",
   "execution_count": 61,
   "id": "d5c35677-ecc7-4d39-807c-71b83894ff93",
   "metadata": {},
   "outputs": [
    {
     "data": {
      "text/plain": [
       "'TS654'"
      ]
     },
     "execution_count": 61,
     "metadata": {},
     "output_type": "execute_result"
    }
   ],
   "source": [
    "station_id"
   ]
  },
  {
   "cell_type": "code",
   "execution_count": 62,
   "id": "9433977b-640c-41f9-8a84-f827d3426f45",
   "metadata": {},
   "outputs": [],
   "source": [
    "response = requests.get(f\"{weather_gov_api_url}/stations/{station_id}/observations\", headers=headers)"
   ]
  },
  {
   "cell_type": "raw",
   "id": "149fa0ff-83cb-4879-aabc-c720228da8e6",
   "metadata": {},
   "source": []
  },
  {
   "cell_type": "code",
   "execution_count": 63,
   "id": "dbb1f708-9ce5-4168-80d1-0c2c86618761",
   "metadata": {},
   "outputs": [],
   "source": [
    "rj = response.json()"
   ]
  },
  {
   "cell_type": "code",
   "execution_count": null,
   "id": "45587689-0f64-43bf-b3f2-26c063a4631c",
   "metadata": {},
   "outputs": [],
   "source": []
  },
  {
   "cell_type": "code",
   "execution_count": null,
   "id": "b4133bf3-ad51-4597-9680-44df75c7056c",
   "metadata": {},
   "outputs": [],
   "source": []
  },
  {
   "cell_type": "code",
   "execution_count": 52,
   "id": "f08984e8-1f3b-4c7e-866a-bb4159322ba3",
   "metadata": {},
   "outputs": [
    {
     "data": {
      "text/plain": [
       "0"
      ]
     },
     "execution_count": 52,
     "metadata": {},
     "output_type": "execute_result"
    }
   ],
   "source": [
    "rc.sismember(\"weather_station:weather.gov:station_ids\", \"LAIG7\")"
   ]
  },
  {
   "cell_type": "code",
   "execution_count": null,
   "id": "dfb28310-23ee-478f-866e-0d928dd598c2",
   "metadata": {},
   "outputs": [],
   "source": []
  },
  {
   "cell_type": "code",
   "execution_count": 64,
   "id": "04cc226f-68c4-4512-9dfb-a8e45a89395b",
   "metadata": {},
   "outputs": [
    {
     "data": {
      "text/plain": [
       "dict_keys(['@context', 'type', 'features'])"
      ]
     },
     "execution_count": 64,
     "metadata": {},
     "output_type": "execute_result"
    }
   ],
   "source": [
    "rj.keys()"
   ]
  },
  {
   "cell_type": "code",
   "execution_count": 66,
   "id": "cd8ce805-870c-428e-948d-cc693ac7cb3c",
   "metadata": {},
   "outputs": [
    {
     "data": {
      "text/plain": [
       "'2024-07-12T14:53:00+00:00'"
      ]
     },
     "execution_count": 66,
     "metadata": {},
     "output_type": "execute_result"
    }
   ],
   "source": [
    "rj['features'][0]['properties']['timestamp']"
   ]
  },
  {
   "cell_type": "code",
   "execution_count": 67,
   "id": "28cd3646-63ae-44f1-9573-0d5b1009ee45",
   "metadata": {},
   "outputs": [
    {
     "data": {
      "text/plain": [
       "23.89"
      ]
     },
     "execution_count": 67,
     "metadata": {},
     "output_type": "execute_result"
    }
   ],
   "source": [
    "rj['features'][0]['properties']['temperature']['value']"
   ]
  },
  {
   "cell_type": "code",
   "execution_count": 68,
   "id": "cae63854-5126-4223-9883-091e3ea96d15",
   "metadata": {
    "scrolled": true
   },
   "outputs": [
    {
     "data": {
      "text/plain": [
       "{'@id': 'https://api.weather.gov/stations/TS654/observations/2024-07-12T14:53:00+00:00',\n",
       " '@type': 'wx:ObservationStation',\n",
       " 'elevation': {'unitCode': 'wmoUnit:m', 'value': 2048.3},\n",
       " 'station': 'https://api.weather.gov/stations/TS654',\n",
       " 'timestamp': '2024-07-12T14:53:00+00:00',\n",
       " 'rawMessage': '',\n",
       " 'textDescription': '',\n",
       " 'icon': None,\n",
       " 'presentWeather': [],\n",
       " 'temperature': {'unitCode': 'wmoUnit:degC',\n",
       "  'value': 23.89,\n",
       "  'qualityControl': 'V'},\n",
       " 'dewpoint': {'unitCode': 'wmoUnit:degC',\n",
       "  'value': 0.23,\n",
       "  'qualityControl': 'V'},\n",
       " 'windDirection': {'unitCode': 'wmoUnit:degree_(angle)',\n",
       "  'value': 164,\n",
       "  'qualityControl': 'V'},\n",
       " 'windSpeed': {'unitCode': 'wmoUnit:km_h-1',\n",
       "  'value': 11.268,\n",
       "  'qualityControl': 'V'},\n",
       " 'windGust': {'unitCode': 'wmoUnit:km_h-1',\n",
       "  'value': None,\n",
       "  'qualityControl': 'Z'},\n",
       " 'barometricPressure': {'unitCode': 'wmoUnit:Pa',\n",
       "  'value': None,\n",
       "  'qualityControl': 'Z'},\n",
       " 'seaLevelPressure': {'unitCode': 'wmoUnit:Pa',\n",
       "  'value': None,\n",
       "  'qualityControl': 'Z'},\n",
       " 'visibility': {'unitCode': 'wmoUnit:m', 'value': None, 'qualityControl': 'Z'},\n",
       " 'maxTemperatureLast24Hours': {'unitCode': 'wmoUnit:degC', 'value': None},\n",
       " 'minTemperatureLast24Hours': {'unitCode': 'wmoUnit:degC', 'value': None},\n",
       " 'precipitationLast3Hours': {'unitCode': 'wmoUnit:mm',\n",
       "  'value': None,\n",
       "  'qualityControl': 'Z'},\n",
       " 'relativeHumidity': {'unitCode': 'wmoUnit:percent',\n",
       "  'value': 20.997676450113,\n",
       "  'qualityControl': 'V'},\n",
       " 'windChill': {'unitCode': 'wmoUnit:degC',\n",
       "  'value': None,\n",
       "  'qualityControl': 'V'},\n",
       " 'heatIndex': {'unitCode': 'wmoUnit:degC',\n",
       "  'value': 22.882828218419444,\n",
       "  'qualityControl': 'V'},\n",
       " 'cloudLayers': []}"
      ]
     },
     "execution_count": 68,
     "metadata": {},
     "output_type": "execute_result"
    }
   ],
   "source": [
    "rj['features'][0]['properties']"
   ]
  },
  {
   "cell_type": "code",
   "execution_count": 69,
   "id": "a2547a70-7630-428b-a234-0fbad9ec8f2e",
   "metadata": {},
   "outputs": [
    {
     "data": {
      "text/plain": [
       "'2024-07-12T14:53:00+00:00'"
      ]
     },
     "execution_count": 69,
     "metadata": {},
     "output_type": "execute_result"
    }
   ],
   "source": [
    "rj['features'][0]['properties']['timestamp']"
   ]
  },
  {
   "cell_type": "code",
   "execution_count": 70,
   "id": "2305133c-f1df-408d-a37f-323cee821fe7",
   "metadata": {},
   "outputs": [
    {
     "data": {
      "text/plain": [
       "'2024-07-05T15:53:00+00:00'"
      ]
     },
     "execution_count": 70,
     "metadata": {},
     "output_type": "execute_result"
    }
   ],
   "source": [
    "rj['features'][-1]['properties']['timestamp']"
   ]
  },
  {
   "cell_type": "code",
   "execution_count": 73,
   "id": "73ef38b3-88f9-44cc-b4e3-31d97645b8b9",
   "metadata": {},
   "outputs": [
    {
     "data": {
      "text/plain": [
       "'{\"station_id\": \"TS654\", \"data_source\": \"weather.gov\"}'"
      ]
     },
     "execution_count": 73,
     "metadata": {},
     "output_type": "execute_result"
    }
   ],
   "source": [
    "json.dumps({\n",
    "                \"station_id\": station_id,\n",
    "                \"data_source\": \"weather.gov\"\n",
    "            })"
   ]
  },
  {
   "cell_type": "code",
   "execution_count": 115,
   "id": "a824e327-3014-4842-b9c5-61835a32df12",
   "metadata": {},
   "outputs": [
    {
     "data": {
      "text/plain": [
       "{'id': 'https://api.weather.gov/stations/TS654/observations/2024-07-12T14:53:00+00:00',\n",
       " 'type': 'Feature',\n",
       " 'geometry': {'type': 'Point', 'coordinates': [-108.52, 40.38]},\n",
       " 'properties': {'@id': 'https://api.weather.gov/stations/TS654/observations/2024-07-12T14:53:00+00:00',\n",
       "  '@type': 'wx:ObservationStation',\n",
       "  'elevation': {'unitCode': 'wmoUnit:m', 'value': 2048.3},\n",
       "  'station': 'https://api.weather.gov/stations/TS654',\n",
       "  'timestamp': '2024-07-12T14:53:00+00:00',\n",
       "  'rawMessage': '',\n",
       "  'textDescription': '',\n",
       "  'icon': None,\n",
       "  'presentWeather': [],\n",
       "  'temperature': {'unitCode': 'wmoUnit:degC',\n",
       "   'value': 23.89,\n",
       "   'qualityControl': 'V'},\n",
       "  'dewpoint': {'unitCode': 'wmoUnit:degC',\n",
       "   'value': 0.23,\n",
       "   'qualityControl': 'V'},\n",
       "  'windDirection': {'unitCode': 'wmoUnit:degree_(angle)',\n",
       "   'value': 164,\n",
       "   'qualityControl': 'V'},\n",
       "  'windSpeed': {'unitCode': 'wmoUnit:km_h-1',\n",
       "   'value': 11.268,\n",
       "   'qualityControl': 'V'},\n",
       "  'windGust': {'unitCode': 'wmoUnit:km_h-1',\n",
       "   'value': None,\n",
       "   'qualityControl': 'Z'},\n",
       "  'barometricPressure': {'unitCode': 'wmoUnit:Pa',\n",
       "   'value': None,\n",
       "   'qualityControl': 'Z'},\n",
       "  'seaLevelPressure': {'unitCode': 'wmoUnit:Pa',\n",
       "   'value': None,\n",
       "   'qualityControl': 'Z'},\n",
       "  'visibility': {'unitCode': 'wmoUnit:m',\n",
       "   'value': None,\n",
       "   'qualityControl': 'Z'},\n",
       "  'maxTemperatureLast24Hours': {'unitCode': 'wmoUnit:degC', 'value': None},\n",
       "  'minTemperatureLast24Hours': {'unitCode': 'wmoUnit:degC', 'value': None},\n",
       "  'precipitationLast3Hours': {'unitCode': 'wmoUnit:mm',\n",
       "   'value': None,\n",
       "   'qualityControl': 'Z'},\n",
       "  'relativeHumidity': {'unitCode': 'wmoUnit:percent',\n",
       "   'value': 20.997676450113,\n",
       "   'qualityControl': 'V'},\n",
       "  'windChill': {'unitCode': 'wmoUnit:degC',\n",
       "   'value': None,\n",
       "   'qualityControl': 'V'},\n",
       "  'heatIndex': {'unitCode': 'wmoUnit:degC',\n",
       "   'value': 22.882828218419444,\n",
       "   'qualityControl': 'V'},\n",
       "  'cloudLayers': []}}"
      ]
     },
     "execution_count": 115,
     "metadata": {},
     "output_type": "execute_result"
    }
   ],
   "source": [
    "rj['features'][0]"
   ]
  },
  {
   "cell_type": "code",
   "execution_count": 76,
   "id": "6eb44e15-322f-4cb8-82fc-ccb889055102",
   "metadata": {},
   "outputs": [],
   "source": [
    "res = rc.get(\"weather_station:weather.gov:last_data_update_ts\")"
   ]
  },
  {
   "cell_type": "code",
   "execution_count": 77,
   "id": "7f94b413-c878-47e7-bc87-7166ebbbef95",
   "metadata": {},
   "outputs": [],
   "source": [
    "res"
   ]
  },
  {
   "cell_type": "code",
   "execution_count": 78,
   "id": "25e39202-62b4-495a-bca6-c38094358d41",
   "metadata": {},
   "outputs": [
    {
     "data": {
      "text/plain": [
       "'None'"
      ]
     },
     "execution_count": 78,
     "metadata": {},
     "output_type": "execute_result"
    }
   ],
   "source": [
    "str(res)"
   ]
  },
  {
   "cell_type": "code",
   "execution_count": 79,
   "id": "b05fe216-7e87-4e46-ad2a-47a50860a236",
   "metadata": {},
   "outputs": [],
   "source": [
    "rc_ts = rc.ts()"
   ]
  },
  {
   "cell_type": "code",
   "execution_count": 80,
   "id": "bb010879-2faf-42f2-aeed-ee53ac59aba8",
   "metadata": {},
   "outputs": [
    {
     "data": {
      "text/plain": [
       "True"
      ]
     },
     "execution_count": 80,
     "metadata": {},
     "output_type": "execute_result"
    }
   ],
   "source": [
    "rc_ts.create(\"ExampleTSKey\")"
   ]
  },
  {
   "cell_type": "code",
   "execution_count": 81,
   "id": "ffd47ba8-f306-4f47-ba7f-b70faa4a5b65",
   "metadata": {},
   "outputs": [
    {
     "ename": "ResponseError",
     "evalue": "TSDB: key already exists",
     "output_type": "error",
     "traceback": [
      "\u001b[0;31m---------------------------------------------------------------------------\u001b[0m",
      "\u001b[0;31mResponseError\u001b[0m                             Traceback (most recent call last)",
      "Cell \u001b[0;32mIn[81], line 1\u001b[0m\n\u001b[0;32m----> 1\u001b[0m \u001b[43mrc_ts\u001b[49m\u001b[38;5;241;43m.\u001b[39;49m\u001b[43mcreate\u001b[49m\u001b[43m(\u001b[49m\u001b[38;5;124;43m\"\u001b[39;49m\u001b[38;5;124;43mExampleTSKey\u001b[39;49m\u001b[38;5;124;43m\"\u001b[39;49m\u001b[43m)\u001b[49m\n",
      "File \u001b[0;32m~/opt/anaconda3/envs/weather311v2/lib/python3.11/site-packages/redis/commands/timeseries/commands.py:75\u001b[0m, in \u001b[0;36mTimeSeriesCommands.create\u001b[0;34m(self, key, retention_msecs, uncompressed, labels, chunk_size, duplicate_policy)\u001b[0m\n\u001b[1;32m     72\u001b[0m \u001b[38;5;28mself\u001b[39m\u001b[38;5;241m.\u001b[39m_append_duplicate_policy(params, CREATE_CMD, duplicate_policy)\n\u001b[1;32m     73\u001b[0m \u001b[38;5;28mself\u001b[39m\u001b[38;5;241m.\u001b[39m_append_labels(params, labels)\n\u001b[0;32m---> 75\u001b[0m \u001b[38;5;28;01mreturn\u001b[39;00m \u001b[38;5;28;43mself\u001b[39;49m\u001b[38;5;241;43m.\u001b[39;49m\u001b[43mexecute_command\u001b[49m\u001b[43m(\u001b[49m\u001b[43mCREATE_CMD\u001b[49m\u001b[43m,\u001b[49m\u001b[43m \u001b[49m\u001b[38;5;241;43m*\u001b[39;49m\u001b[43mparams\u001b[49m\u001b[43m)\u001b[49m\n",
      "File \u001b[0;32m~/opt/anaconda3/envs/weather311v2/lib/python3.11/site-packages/redis/client.py:545\u001b[0m, in \u001b[0;36mRedis.execute_command\u001b[0;34m(self, *args, **options)\u001b[0m\n\u001b[1;32m    542\u001b[0m conn \u001b[38;5;241m=\u001b[39m \u001b[38;5;28mself\u001b[39m\u001b[38;5;241m.\u001b[39mconnection \u001b[38;5;129;01mor\u001b[39;00m pool\u001b[38;5;241m.\u001b[39mget_connection(command_name, \u001b[38;5;241m*\u001b[39m\u001b[38;5;241m*\u001b[39moptions)\n\u001b[1;32m    544\u001b[0m \u001b[38;5;28;01mtry\u001b[39;00m:\n\u001b[0;32m--> 545\u001b[0m     \u001b[38;5;28;01mreturn\u001b[39;00m \u001b[43mconn\u001b[49m\u001b[38;5;241;43m.\u001b[39;49m\u001b[43mretry\u001b[49m\u001b[38;5;241;43m.\u001b[39;49m\u001b[43mcall_with_retry\u001b[49m\u001b[43m(\u001b[49m\n\u001b[1;32m    546\u001b[0m \u001b[43m        \u001b[49m\u001b[38;5;28;43;01mlambda\u001b[39;49;00m\u001b[43m:\u001b[49m\u001b[43m \u001b[49m\u001b[38;5;28;43mself\u001b[39;49m\u001b[38;5;241;43m.\u001b[39;49m\u001b[43m_send_command_parse_response\u001b[49m\u001b[43m(\u001b[49m\n\u001b[1;32m    547\u001b[0m \u001b[43m            \u001b[49m\u001b[43mconn\u001b[49m\u001b[43m,\u001b[49m\u001b[43m \u001b[49m\u001b[43mcommand_name\u001b[49m\u001b[43m,\u001b[49m\u001b[43m \u001b[49m\u001b[38;5;241;43m*\u001b[39;49m\u001b[43margs\u001b[49m\u001b[43m,\u001b[49m\u001b[43m \u001b[49m\u001b[38;5;241;43m*\u001b[39;49m\u001b[38;5;241;43m*\u001b[39;49m\u001b[43moptions\u001b[49m\n\u001b[1;32m    548\u001b[0m \u001b[43m        \u001b[49m\u001b[43m)\u001b[49m\u001b[43m,\u001b[49m\n\u001b[1;32m    549\u001b[0m \u001b[43m        \u001b[49m\u001b[38;5;28;43;01mlambda\u001b[39;49;00m\u001b[43m \u001b[49m\u001b[43merror\u001b[49m\u001b[43m:\u001b[49m\u001b[43m \u001b[49m\u001b[38;5;28;43mself\u001b[39;49m\u001b[38;5;241;43m.\u001b[39;49m\u001b[43m_disconnect_raise\u001b[49m\u001b[43m(\u001b[49m\u001b[43mconn\u001b[49m\u001b[43m,\u001b[49m\u001b[43m \u001b[49m\u001b[43merror\u001b[49m\u001b[43m)\u001b[49m\u001b[43m,\u001b[49m\n\u001b[1;32m    550\u001b[0m \u001b[43m    \u001b[49m\u001b[43m)\u001b[49m\n\u001b[1;32m    551\u001b[0m \u001b[38;5;28;01mfinally\u001b[39;00m:\n\u001b[1;32m    552\u001b[0m     \u001b[38;5;28;01mif\u001b[39;00m \u001b[38;5;129;01mnot\u001b[39;00m \u001b[38;5;28mself\u001b[39m\u001b[38;5;241m.\u001b[39mconnection:\n",
      "File \u001b[0;32m~/opt/anaconda3/envs/weather311v2/lib/python3.11/site-packages/redis/retry.py:46\u001b[0m, in \u001b[0;36mRetry.call_with_retry\u001b[0;34m(self, do, fail)\u001b[0m\n\u001b[1;32m     44\u001b[0m \u001b[38;5;28;01mwhile\u001b[39;00m \u001b[38;5;28;01mTrue\u001b[39;00m:\n\u001b[1;32m     45\u001b[0m     \u001b[38;5;28;01mtry\u001b[39;00m:\n\u001b[0;32m---> 46\u001b[0m         \u001b[38;5;28;01mreturn\u001b[39;00m \u001b[43mdo\u001b[49m\u001b[43m(\u001b[49m\u001b[43m)\u001b[49m\n\u001b[1;32m     47\u001b[0m     \u001b[38;5;28;01mexcept\u001b[39;00m \u001b[38;5;28mself\u001b[39m\u001b[38;5;241m.\u001b[39m_supported_errors \u001b[38;5;28;01mas\u001b[39;00m error:\n\u001b[1;32m     48\u001b[0m         failures \u001b[38;5;241m+\u001b[39m\u001b[38;5;241m=\u001b[39m \u001b[38;5;241m1\u001b[39m\n",
      "File \u001b[0;32m~/opt/anaconda3/envs/weather311v2/lib/python3.11/site-packages/redis/client.py:546\u001b[0m, in \u001b[0;36mRedis.execute_command.<locals>.<lambda>\u001b[0;34m()\u001b[0m\n\u001b[1;32m    542\u001b[0m conn \u001b[38;5;241m=\u001b[39m \u001b[38;5;28mself\u001b[39m\u001b[38;5;241m.\u001b[39mconnection \u001b[38;5;129;01mor\u001b[39;00m pool\u001b[38;5;241m.\u001b[39mget_connection(command_name, \u001b[38;5;241m*\u001b[39m\u001b[38;5;241m*\u001b[39moptions)\n\u001b[1;32m    544\u001b[0m \u001b[38;5;28;01mtry\u001b[39;00m:\n\u001b[1;32m    545\u001b[0m     \u001b[38;5;28;01mreturn\u001b[39;00m conn\u001b[38;5;241m.\u001b[39mretry\u001b[38;5;241m.\u001b[39mcall_with_retry(\n\u001b[0;32m--> 546\u001b[0m         \u001b[38;5;28;01mlambda\u001b[39;00m: \u001b[38;5;28;43mself\u001b[39;49m\u001b[38;5;241;43m.\u001b[39;49m\u001b[43m_send_command_parse_response\u001b[49m\u001b[43m(\u001b[49m\n\u001b[1;32m    547\u001b[0m \u001b[43m            \u001b[49m\u001b[43mconn\u001b[49m\u001b[43m,\u001b[49m\u001b[43m \u001b[49m\u001b[43mcommand_name\u001b[49m\u001b[43m,\u001b[49m\u001b[43m \u001b[49m\u001b[38;5;241;43m*\u001b[39;49m\u001b[43margs\u001b[49m\u001b[43m,\u001b[49m\u001b[43m \u001b[49m\u001b[38;5;241;43m*\u001b[39;49m\u001b[38;5;241;43m*\u001b[39;49m\u001b[43moptions\u001b[49m\n\u001b[1;32m    548\u001b[0m \u001b[43m        \u001b[49m\u001b[43m)\u001b[49m,\n\u001b[1;32m    549\u001b[0m         \u001b[38;5;28;01mlambda\u001b[39;00m error: \u001b[38;5;28mself\u001b[39m\u001b[38;5;241m.\u001b[39m_disconnect_raise(conn, error),\n\u001b[1;32m    550\u001b[0m     )\n\u001b[1;32m    551\u001b[0m \u001b[38;5;28;01mfinally\u001b[39;00m:\n\u001b[1;32m    552\u001b[0m     \u001b[38;5;28;01mif\u001b[39;00m \u001b[38;5;129;01mnot\u001b[39;00m \u001b[38;5;28mself\u001b[39m\u001b[38;5;241m.\u001b[39mconnection:\n",
      "File \u001b[0;32m~/opt/anaconda3/envs/weather311v2/lib/python3.11/site-packages/redis/client.py:522\u001b[0m, in \u001b[0;36mRedis._send_command_parse_response\u001b[0;34m(self, conn, command_name, *args, **options)\u001b[0m\n\u001b[1;32m    518\u001b[0m \u001b[38;5;250m\u001b[39m\u001b[38;5;124;03m\"\"\"\u001b[39;00m\n\u001b[1;32m    519\u001b[0m \u001b[38;5;124;03mSend a command and parse the response\u001b[39;00m\n\u001b[1;32m    520\u001b[0m \u001b[38;5;124;03m\"\"\"\u001b[39;00m\n\u001b[1;32m    521\u001b[0m conn\u001b[38;5;241m.\u001b[39msend_command(\u001b[38;5;241m*\u001b[39margs)\n\u001b[0;32m--> 522\u001b[0m \u001b[38;5;28;01mreturn\u001b[39;00m \u001b[38;5;28;43mself\u001b[39;49m\u001b[38;5;241;43m.\u001b[39;49m\u001b[43mparse_response\u001b[49m\u001b[43m(\u001b[49m\u001b[43mconn\u001b[49m\u001b[43m,\u001b[49m\u001b[43m \u001b[49m\u001b[43mcommand_name\u001b[49m\u001b[43m,\u001b[49m\u001b[43m \u001b[49m\u001b[38;5;241;43m*\u001b[39;49m\u001b[38;5;241;43m*\u001b[39;49m\u001b[43moptions\u001b[49m\u001b[43m)\u001b[49m\n",
      "File \u001b[0;32m~/opt/anaconda3/envs/weather311v2/lib/python3.11/site-packages/redis/client.py:562\u001b[0m, in \u001b[0;36mRedis.parse_response\u001b[0;34m(self, connection, command_name, **options)\u001b[0m\n\u001b[1;32m    560\u001b[0m         options\u001b[38;5;241m.\u001b[39mpop(NEVER_DECODE)\n\u001b[1;32m    561\u001b[0m     \u001b[38;5;28;01melse\u001b[39;00m:\n\u001b[0;32m--> 562\u001b[0m         response \u001b[38;5;241m=\u001b[39m \u001b[43mconnection\u001b[49m\u001b[38;5;241;43m.\u001b[39;49m\u001b[43mread_response\u001b[49m\u001b[43m(\u001b[49m\u001b[43m)\u001b[49m\n\u001b[1;32m    563\u001b[0m \u001b[38;5;28;01mexcept\u001b[39;00m ResponseError:\n\u001b[1;32m    564\u001b[0m     \u001b[38;5;28;01mif\u001b[39;00m EMPTY_RESPONSE \u001b[38;5;129;01min\u001b[39;00m options:\n",
      "File \u001b[0;32m~/opt/anaconda3/envs/weather311v2/lib/python3.11/site-packages/redis/connection.py:536\u001b[0m, in \u001b[0;36mAbstractConnection.read_response\u001b[0;34m(self, disable_decoding, disconnect_on_error, push_request)\u001b[0m\n\u001b[1;32m    534\u001b[0m \u001b[38;5;28;01mif\u001b[39;00m \u001b[38;5;28misinstance\u001b[39m(response, ResponseError):\n\u001b[1;32m    535\u001b[0m     \u001b[38;5;28;01mtry\u001b[39;00m:\n\u001b[0;32m--> 536\u001b[0m         \u001b[38;5;28;01mraise\u001b[39;00m response\n\u001b[1;32m    537\u001b[0m     \u001b[38;5;28;01mfinally\u001b[39;00m:\n\u001b[1;32m    538\u001b[0m         \u001b[38;5;28;01mdel\u001b[39;00m response  \u001b[38;5;66;03m# avoid creating ref cycles\u001b[39;00m\n",
      "\u001b[0;31mResponseError\u001b[0m: TSDB: key already exists"
     ]
    }
   ],
   "source": [
    "rc_ts.create(\"ExampleTSKey\")"
   ]
  },
  {
   "cell_type": "code",
   "execution_count": 83,
   "id": "f6cf6a6f-860e-4fe3-8ac6-94f5e43a58b8",
   "metadata": {},
   "outputs": [],
   "source": [
    "from time import time"
   ]
  },
  {
   "cell_type": "code",
   "execution_count": 84,
   "id": "6a01cd8a-e6bf-4aaa-8886-2cc6b7196e57",
   "metadata": {},
   "outputs": [
    {
     "data": {
      "text/plain": [
       "1720814963984"
      ]
     },
     "execution_count": 84,
     "metadata": {},
     "output_type": "execute_result"
    }
   ],
   "source": [
    "rc_ts.add(\"ExampleTSKey2\", int(time() * 1000), 1)"
   ]
  },
  {
   "cell_type": "code",
   "execution_count": 85,
   "id": "cba53e12-7495-46dc-b611-16182470cfe7",
   "metadata": {},
   "outputs": [
    {
     "data": {
      "text/plain": [
       "1720814970139"
      ]
     },
     "execution_count": 85,
     "metadata": {},
     "output_type": "execute_result"
    }
   ],
   "source": [
    "rc_ts.add(\"ExampleTSKey2\", int(time() * 1000), 1)"
   ]
  },
  {
   "cell_type": "code",
   "execution_count": 86,
   "id": "39ee2839-005b-4fe4-a573-da8797ee6814",
   "metadata": {},
   "outputs": [
    {
     "data": {
      "text/plain": [
       "(1720814970139, 1.0)"
      ]
     },
     "execution_count": 86,
     "metadata": {},
     "output_type": "execute_result"
    }
   ],
   "source": [
    "rc_ts.get(\"ExampleTSKey2\")"
   ]
  },
  {
   "cell_type": "code",
   "execution_count": 90,
   "id": "11ad9e99-0f95-4d62-a136-b570651a79a0",
   "metadata": {},
   "outputs": [
    {
     "data": {
      "text/plain": [
       "[(1720814963984, 1.0), (1720814970139, 1.0)]"
      ]
     },
     "execution_count": 90,
     "metadata": {},
     "output_type": "execute_result"
    }
   ],
   "source": [
    "rc_ts.range(\"ExampleTSKey2\", \"-\", \"+\")"
   ]
  },
  {
   "cell_type": "code",
   "execution_count": 88,
   "id": "c9a6c61c-569c-44c6-8c35-9576d624a24b",
   "metadata": {},
   "outputs": [],
   "source": [
    "pipe = rc_ts.pipeline()"
   ]
  },
  {
   "cell_type": "code",
   "execution_count": 89,
   "id": "d094104f-18dc-4a44-9a9c-c7ecbd574d90",
   "metadata": {},
   "outputs": [
    {
     "data": {
      "text/plain": [
       "Pipeline<ConnectionPool<Connection<host=localhost,port=6379,db=0>>>"
      ]
     },
     "execution_count": 89,
     "metadata": {},
     "output_type": "execute_result"
    }
   ],
   "source": [
    "pipe.add(\"ExampleTSKey2\", int(time() * 1000), 1)"
   ]
  },
  {
   "cell_type": "code",
   "execution_count": 91,
   "id": "78bb87bb-bef3-4ede-8c4a-e2d6acffa7fd",
   "metadata": {},
   "outputs": [
    {
     "data": {
      "text/plain": [
       "[(1720814963984, 1.0), (1720814970139, 1.0)]"
      ]
     },
     "execution_count": 91,
     "metadata": {},
     "output_type": "execute_result"
    }
   ],
   "source": [
    "rc_ts.range(\"ExampleTSKey2\", \"-\", \"+\")"
   ]
  },
  {
   "cell_type": "code",
   "execution_count": 92,
   "id": "ce61ad04-8517-40cb-8e4e-cf94d1a09875",
   "metadata": {},
   "outputs": [
    {
     "data": {
      "text/plain": [
       "[1720815192159]"
      ]
     },
     "execution_count": 92,
     "metadata": {},
     "output_type": "execute_result"
    }
   ],
   "source": [
    "pipe.execute()"
   ]
  },
  {
   "cell_type": "code",
   "execution_count": 93,
   "id": "a1b644b9-80c2-4822-88a4-be8a29d635ef",
   "metadata": {},
   "outputs": [
    {
     "data": {
      "text/plain": [
       "[(1720814963984, 1.0), (1720814970139, 1.0), (1720815192159, 1.0)]"
      ]
     },
     "execution_count": 93,
     "metadata": {},
     "output_type": "execute_result"
    }
   ],
   "source": [
    "rc_ts.range(\"ExampleTSKey2\", \"-\", \"+\")"
   ]
  },
  {
   "cell_type": "code",
   "execution_count": null,
   "id": "a04416f1-44c5-41b6-aa5a-4d999fe994ac",
   "metadata": {},
   "outputs": [],
   "source": []
  },
  {
   "cell_type": "code",
   "execution_count": null,
   "id": "833006ce-2036-4710-a5a7-1dca38085194",
   "metadata": {},
   "outputs": [],
   "source": []
  },
  {
   "cell_type": "markdown",
   "id": "4745a973-d6fc-46b4-b20a-33d0c96a08bd",
   "metadata": {},
   "source": [
    "### Convert timestamp to unix ts"
   ]
  },
  {
   "cell_type": "code",
   "execution_count": 94,
   "id": "4b5ffff8-60f6-4f63-9781-a68bd8d366ea",
   "metadata": {},
   "outputs": [],
   "source": [
    "tsi = rj['features'][0]['properties']['timestamp']"
   ]
  },
  {
   "cell_type": "code",
   "execution_count": 95,
   "id": "8e7c08e6-0bc1-4ab2-8aed-8b0a0297248b",
   "metadata": {},
   "outputs": [
    {
     "data": {
      "text/plain": [
       "'2024-07-12T14:53:00+00:00'"
      ]
     },
     "execution_count": 95,
     "metadata": {},
     "output_type": "execute_result"
    }
   ],
   "source": [
    "tsi"
   ]
  },
  {
   "cell_type": "code",
   "execution_count": 96,
   "id": "65a01e37-2e5a-40d9-8d3e-006ebb5d71cd",
   "metadata": {},
   "outputs": [],
   "source": [
    "from datetime import datetime"
   ]
  },
  {
   "cell_type": "code",
   "execution_count": 97,
   "id": "33a72971-b819-4078-aa2c-e55b372f8a67",
   "metadata": {},
   "outputs": [
    {
     "data": {
      "text/plain": [
       "datetime.datetime(2024, 7, 12, 14, 53, tzinfo=datetime.timezone.utc)"
      ]
     },
     "execution_count": 97,
     "metadata": {},
     "output_type": "execute_result"
    }
   ],
   "source": [
    "datetime.strptime(tsi, \"%Y-%m-%dT%H:%M:%S%z\")"
   ]
  },
  {
   "cell_type": "code",
   "execution_count": 98,
   "id": "0eb1e5ca-47a2-418c-8390-d5a2d1dde16e",
   "metadata": {},
   "outputs": [
    {
     "data": {
      "text/plain": [
       "1720795980.0"
      ]
     },
     "execution_count": 98,
     "metadata": {},
     "output_type": "execute_result"
    }
   ],
   "source": [
    "datetime.strptime(tsi, \"%Y-%m-%dT%H:%M:%S%z\").timestamp()"
   ]
  },
  {
   "cell_type": "code",
   "execution_count": 100,
   "id": "72d8ffe9-f87d-47bc-af84-cdfa852e138a",
   "metadata": {},
   "outputs": [
    {
     "data": {
      "text/plain": [
       "1720813980.0"
      ]
     },
     "execution_count": 100,
     "metadata": {},
     "output_type": "execute_result"
    }
   ],
   "source": [
    "datetime.strptime('2024-07-12T14:53:00-05:00', \"%Y-%m-%dT%H:%M:%S%z\").timestamp()"
   ]
  },
  {
   "cell_type": "code",
   "execution_count": 132,
   "id": "74050704-bb79-487e-b310-14e0830b93db",
   "metadata": {},
   "outputs": [
    {
     "data": {
      "text/plain": [
       "12561"
      ]
     },
     "execution_count": 132,
     "metadata": {},
     "output_type": "execute_result"
    }
   ],
   "source": [
    "rc.llen(\"weather_station_process_queue\")"
   ]
  },
  {
   "cell_type": "code",
   "execution_count": 121,
   "id": "22d2d68c-e11c-4605-812a-b480defb3d1e",
   "metadata": {},
   "outputs": [
    {
     "data": {
      "text/plain": [
       "1"
      ]
     },
     "execution_count": 121,
     "metadata": {},
     "output_type": "execute_result"
    }
   ],
   "source": [
    "rc.delete(\"weather_station_process_queue\")"
   ]
  },
  {
   "cell_type": "code",
   "execution_count": 122,
   "id": "b8296a61-a618-4ef6-a07f-992a04413c69",
   "metadata": {},
   "outputs": [
    {
     "data": {
      "text/plain": [
       "0"
      ]
     },
     "execution_count": 122,
     "metadata": {},
     "output_type": "execute_result"
    }
   ],
   "source": [
    "rc.llen(\"weather_station_process_queue\")"
   ]
  },
  {
   "cell_type": "code",
   "execution_count": 127,
   "id": "31995eac-16ef-4bed-a88a-adfadee81373",
   "metadata": {},
   "outputs": [
    {
     "data": {
      "text/plain": [
       "[(1720008000000, 13.2),\n",
       " (1720008600000, 13.06),\n",
       " (1720009200000, 12.97),\n",
       " (1720010400000, 12.77),\n",
       " (1720011000000, 12.69),\n",
       " (1720216200000, 30.28),\n",
       " (1720216800000, 30.11),\n",
       " (1720217400000, 29.94),\n",
       " (1720218000000, 29.67),\n",
       " (1720218600000, 29.17),\n",
       " (1720219200000, 28.94),\n",
       " (1720219800000, 28.67),\n",
       " (1720220400000, -99911999.0),\n",
       " (1720221000000, -99911999.0),\n",
       " (1720221600000, -99911999.0),\n",
       " (1720222800000, 26.63),\n",
       " (1720223400000, 26.64),\n",
       " (1720224600000, 26.14),\n",
       " (1720225200000, 26.29),\n",
       " (1720226400000, 26.11),\n",
       " (1720227000000, 26.12),\n",
       " (1720228200000, 26.38),\n",
       " (1720228800000, 26.6),\n",
       " (1720229400000, 26.72),\n",
       " (1720230000000, 26.83),\n",
       " (1720230600000, 26.94),\n",
       " (1720231800000, 27.17),\n",
       " (1720232400000, 27.0),\n",
       " (1720233600000, 26.55),\n",
       " (1720234200000, 26.15),\n",
       " (1720235400000, 25.32),\n",
       " (1720236000000, 24.97),\n",
       " (1720236600000, 24.66),\n",
       " (1720237200000, 24.33),\n",
       " (1720239000000, 22.92),\n",
       " (1720239600000, 22.22),\n",
       " (1720240200000, 21.47),\n",
       " (1720241400000, -99911999.0),\n",
       " (1720242000000, 20.17),\n",
       " (1720242600000, 19.88),\n",
       " (1720243200000, 19.54),\n",
       " (1720243800000, 19.28),\n",
       " (1720245000000, 18.92),\n",
       " (1720246800000, 18.61),\n",
       " (1720247400000, 18.47),\n",
       " (1720248000000, 18.14),\n",
       " (1720248600000, 17.98),\n",
       " (1720250400000, 17.64),\n",
       " (1720251600000, 17.39),\n",
       " (1720252200000, 17.54),\n",
       " (1720252800000, 17.61),\n",
       " (1720253400000, 17.33),\n",
       " (1720254000000, 17.04),\n",
       " (1720254600000, 16.8),\n",
       " (1720255200000, 16.99),\n",
       " (1720255800000, 17.06),\n",
       " (1720257000000, 16.37),\n",
       " (1720257600000, 16.39),\n",
       " (1720258200000, 16.42),\n",
       " (1720259400000, 15.86),\n",
       " (1720260000000, 15.81),\n",
       " (1720260600000, 15.87),\n",
       " (1720261200000, 15.77),\n",
       " (1720262400000, 15.16),\n",
       " (1720263600000, 15.08),\n",
       " (1720265400000, 15.17),\n",
       " (1720266600000, 14.94),\n",
       " (1720267200000, 14.56),\n",
       " (1720268400000, 14.69),\n",
       " (1720269600000, 14.86),\n",
       " (1720270200000, 14.91),\n",
       " (1720271400000, 14.6),\n",
       " (1720272600000, 14.76),\n",
       " (1720273200000, 15.23),\n",
       " (1720273800000, 15.69),\n",
       " (1720274400000, 15.99),\n",
       " (1720275600000, 17.29),\n",
       " (1720276200000, 18.47),\n",
       " (1720276800000, 18.49),\n",
       " (1720277400000, 18.72),\n",
       " (1720278600000, 19.42),\n",
       " (1720279200000, 20.12),\n",
       " (1720279800000, 20.36),\n",
       " (1720280400000, 20.57),\n",
       " (1720282800000, 22.4),\n",
       " (1720283400000, 22.97),\n",
       " (1720284000000, 23.47),\n",
       " (1720284600000, 23.92),\n",
       " (1720286400000, 25.14),\n",
       " (1720287000000, 25.18),\n",
       " (1720287600000, 25.25),\n",
       " (1720288200000, 25.42),\n",
       " (1720288800000, 25.68),\n",
       " (1720290000000, 25.71),\n",
       " (1720291200000, 25.82),\n",
       " (1720291800000, 25.87),\n",
       " (1720293000000, 26.02),\n",
       " (1720293600000, 25.76),\n",
       " (1720294200000, 25.38),\n",
       " (1720294800000, 25.66),\n",
       " (1720295400000, 25.68),\n",
       " (1720297200000, 25.42),\n",
       " (1720298400000, 24.96),\n",
       " (1720299000000, 24.62),\n",
       " (1720300200000, 24.91),\n",
       " (1720300800000, 24.73),\n",
       " (1720303800000, 24.55),\n",
       " (1720304400000, 24.24),\n",
       " (1720305600000, 24.33),\n",
       " (1720306800000, 24.46),\n",
       " (1720308000000, 24.58),\n",
       " (1720309200000, 24.41),\n",
       " (1720309800000, 24.78),\n",
       " (1720311600000, 24.75),\n",
       " (1720312800000, 24.77),\n",
       " (1720313400000, 24.54),\n",
       " (1720315200000, 23.99),\n",
       " (1720316400000, 23.95),\n",
       " (1720317000000, 23.79),\n",
       " (1720318800000, 23.31),\n",
       " (1720320000000, 22.74),\n",
       " (1720320600000, 22.37),\n",
       " (1720322400000, 21.11),\n",
       " (1720323600000, 20.39),\n",
       " (1720325400000, 19.94),\n",
       " (1720326000000, 19.78),\n",
       " (1720327200000, 19.45),\n",
       " (1720327800000, 19.32),\n",
       " (1720329600000, 18.87),\n",
       " (1720330200000, 18.74),\n",
       " (1720330800000, 18.62),\n",
       " (1720331400000, 18.5),\n",
       " (1720332600000, 18.31),\n",
       " (1720333200000, 18.28),\n",
       " (1720334400000, 18.34),\n",
       " (1720335000000, 18.43),\n",
       " (1720335600000, 18.37),\n",
       " (1720336200000, 18.26),\n",
       " (1720336800000, 18.35),\n",
       " (1720338000000, 18.33),\n",
       " (1720339800000, 18.12),\n",
       " (1720340400000, 18.11),\n",
       " (1720341600000, 18.09),\n",
       " (1720342200000, 17.97),\n",
       " (1720343400000, 17.97),\n",
       " (1720345800000, 17.88),\n",
       " (1720347600000, 17.43),\n",
       " (1720348800000, 17.28),\n",
       " (1720349400000, 17.12),\n",
       " (1720351200000, 17.02),\n",
       " (1720352400000, 16.96),\n",
       " (1720353000000, 17.03),\n",
       " (1720354200000, 17.12),\n",
       " (1720354800000, 17.03),\n",
       " (1720356000000, 17.06),\n",
       " (1720357800000, 17.14),\n",
       " (1720359000000, 17.13),\n",
       " (1720359600000, 17.11),\n",
       " (1720361400000, 17.2),\n",
       " (1720362000000, 17.24),\n",
       " (1720363200000, 17.5),\n",
       " (1720365000000, 17.83),\n",
       " (1720365600000, 18.02),\n",
       " (1720366800000, 18.22),\n",
       " (1720368000000, 18.2),\n",
       " (1720369800000, 18.11),\n",
       " (1720370400000, 18.29),\n",
       " (1720371600000, 18.78),\n",
       " (1720372800000, 19.77),\n",
       " (1720374000000, 21.01),\n",
       " (1720374600000, 21.29),\n",
       " (1720375800000, 22.24),\n",
       " (1720376400000, 22.67),\n",
       " (1720378200000, 23.48),\n",
       " (1720380000000, 23.72),\n",
       " (1720381200000, 23.78),\n",
       " (1720382400000, 23.92),\n",
       " (1720383000000, 23.92),\n",
       " (1720383600000, 24.09),\n",
       " (1720384800000, 24.38),\n",
       " (1720385400000, 24.37),\n",
       " (1720386600000, 24.44),\n",
       " (1720387800000, 24.34),\n",
       " (1720388400000, 24.67),\n",
       " (1720389600000, 24.98),\n",
       " (1720390800000, 25.27),\n",
       " (1720392000000, 25.37),\n",
       " (1720393800000, 25.64),\n",
       " (1720394400000, 25.55),\n",
       " (1720395600000, 25.39),\n",
       " (1720396800000, 25.22),\n",
       " (1720398000000, 25.0),\n",
       " (1720399200000, 24.72),\n",
       " (1720400400000, 24.27),\n",
       " (1720401000000, 24.09),\n",
       " (1720401600000, 24.09),\n",
       " (1720402200000, 23.88),\n",
       " (1720403400000, 23.49),\n",
       " (1720404600000, 23.12),\n",
       " (1720405200000, 22.76),\n",
       " (1720405800000, 22.38),\n",
       " (1720407000000, 21.49),\n",
       " (1720408200000, 20.99),\n",
       " (1720408800000, 20.72),\n",
       " (1720409400000, 20.5),\n",
       " (1720410000000, 20.29),\n",
       " (1720411800000, 19.45),\n",
       " (1720412400000, 19.24),\n",
       " (1720413600000, 18.82),\n",
       " (1720414200000, 18.66),\n",
       " (1720416000000, 17.99),\n",
       " (1720417200000, 17.65),\n",
       " (1720417800000, 17.49),\n",
       " (1720419000000, 17.36),\n",
       " (1720419600000, 17.28),\n",
       " (1720421400000, 17.08),\n",
       " (1720422600000, 16.93),\n",
       " (1720423200000, 16.86),\n",
       " (1720425600000, 16.51),\n",
       " (1720426200000, 16.37),\n",
       " (1720426800000, 16.27),\n",
       " (1720428000000, 16.17),\n",
       " (1720432800000, 15.89),\n",
       " (1720434000000, 15.93),\n",
       " (1720434600000, 15.98),\n",
       " (1720435200000, 15.93),\n",
       " (1720435800000, 15.91),\n",
       " (1720436400000, 15.86),\n",
       " (1720437600000, 15.76),\n",
       " (1720438200000, 15.78),\n",
       " (1720438800000, 15.68),\n",
       " (1720439400000, 15.61),\n",
       " (1720440600000, 15.56),\n",
       " (1720442400000, 15.69),\n",
       " (1720443000000, 15.75),\n",
       " (1720444800000, 15.54),\n",
       " (1720446600000, 15.49),\n",
       " (1720450200000, 15.77),\n",
       " (1720453200000, 16.57),\n",
       " (1720454400000, -99911999.0),\n",
       " (1720455000000, 18.14),\n",
       " (1720456200000, 19.07),\n",
       " (1720456800000, 19.96),\n",
       " (1720457400000, 20.52),\n",
       " (1720459200000, 21.14),\n",
       " (1720460400000, 22.02),\n",
       " (1720461000000, 22.17),\n",
       " (1720461600000, 22.17),\n",
       " (1720462200000, 22.54),\n",
       " (1720462800000, 22.81),\n",
       " (1720464000000, 23.47),\n",
       " (1720464600000, 24.11),\n",
       " (1720466400000, 24.13),\n",
       " (1720467000000, 24.39),\n",
       " (1720467600000, 24.34),\n",
       " (1720468200000, 24.52),\n",
       " (1720469400000, 24.24),\n",
       " (1720470000000, 23.99),\n",
       " (1720470600000, 24.1),\n",
       " (1720471200000, 23.74),\n",
       " (1720471800000, 23.38),\n",
       " (1720474800000, 23.32),\n",
       " (1720475400000, 23.31),\n",
       " (1720476600000, 23.36),\n",
       " (1720477200000, 23.38),\n",
       " (1720477800000, 23.48),\n",
       " (1720479000000, 23.43),\n",
       " (1720480200000, 22.98),\n",
       " (1720480800000, 23.01),\n",
       " (1720481400000, 23.16),\n",
       " (1720482600000, 23.21),\n",
       " (1720483200000, 23.01),\n",
       " (1720484400000, 22.87),\n",
       " (1720485000000, 23.11),\n",
       " (1720485600000, 23.14),\n",
       " (1720486200000, 23.26),\n",
       " (1720487400000, 22.97),\n",
       " (1720488000000, 22.94),\n",
       " (1720488600000, 22.43),\n",
       " (1720489200000, 22.28),\n",
       " (1720490400000, 21.54),\n",
       " (1720491000000, 21.07),\n",
       " (1720491600000, 20.88),\n",
       " (1720492800000, 20.08),\n",
       " (1720495200000, 18.91),\n",
       " (1720495800000, 18.72),\n",
       " (1720496400000, 18.56),\n",
       " (1720497000000, 18.42),\n",
       " (1720497600000, 18.29),\n",
       " (1720498200000, 18.15),\n",
       " (1720498800000, 17.97),\n",
       " (1720499400000, 17.91),\n",
       " (1720500600000, 17.52),\n",
       " (1720501200000, 17.4),\n",
       " (1720501800000, 17.2),\n",
       " (1720502400000, 17.05),\n",
       " (1720503600000, 16.84),\n",
       " (1720504200000, 16.74),\n",
       " (1720505400000, 16.53),\n",
       " (1720506000000, 16.53),\n",
       " (1720507200000, 16.33),\n",
       " (1720509000000, 15.89),\n",
       " (1720510200000, 15.63),\n",
       " (1720510800000, 15.49),\n",
       " (1720511400000, 15.43),\n",
       " (1720512000000, 15.34),\n",
       " (1720512600000, 15.28),\n",
       " (1720513800000, 15.36),\n",
       " (1720514400000, 15.41),\n",
       " (1720515000000, 15.17),\n",
       " (1720515600000, 14.96),\n",
       " (1720516200000, 14.95),\n",
       " (1720516800000, 14.91),\n",
       " (1720518000000, 14.85),\n",
       " (1720518600000, 14.65),\n",
       " (1720519200000, 14.72),\n",
       " (1720519800000, 14.64),\n",
       " (1720520400000, 14.62),\n",
       " (1720521600000, 14.62),\n",
       " (1720524600000, 14.82),\n",
       " (1720525800000, 14.9),\n",
       " (1720528200000, 14.63),\n",
       " (1720529400000, 14.6),\n",
       " (1720530600000, 14.66),\n",
       " (1720531200000, 14.63),\n",
       " (1720531800000, 14.61),\n",
       " (1720532400000, 14.66),\n",
       " (1720533000000, 14.58),\n",
       " (1720534200000, 14.72),\n",
       " (1720534800000, 14.78),\n",
       " (1720536600000, 14.81),\n",
       " (1720537200000, 14.88),\n",
       " (1720537800000, 15.03),\n",
       " (1720539600000, 15.56),\n",
       " (1720542600000, 19.27),\n",
       " (1720543200000, 20.51),\n",
       " (1720543800000, 21.03),\n",
       " (1720545000000, -99911999.0),\n",
       " (1720546200000, 23.12),\n",
       " (1720546800000, 23.15),\n",
       " (1720547400000, 23.51),\n",
       " (1720548000000, 23.74),\n",
       " (1720549200000, 24.09),\n",
       " (1720550400000, 24.44),\n",
       " (1720551000000, 24.69),\n",
       " (1720551600000, 24.58),\n",
       " (1720552200000, 24.48),\n",
       " (1720552800000, 24.66),\n",
       " (1720553400000, 24.66),\n",
       " (1720554000000, 24.46),\n",
       " (1720554600000, 24.39),\n",
       " (1720559400000, 24.76),\n",
       " (1720561800000, 24.66),\n",
       " (1720563000000, 24.61),\n",
       " (1720564200000, 24.79),\n",
       " (1720567200000, 25.33),\n",
       " (1720567800000, 25.65),\n",
       " (1720568400000, 25.57),\n",
       " (1720570200000, 25.28),\n",
       " (1720570800000, 25.26),\n",
       " (1720572000000, 25.08),\n",
       " (1720575000000, 23.97),\n",
       " (1720575600000, 23.83),\n",
       " (1720576200000, 23.81),\n",
       " (1720576800000, 23.52),\n",
       " (1720577400000, 23.14),\n",
       " (1720578600000, 22.26),\n",
       " (1720579200000, 21.82),\n",
       " (1720579800000, 21.41),\n",
       " (1720581000000, 20.66),\n",
       " (1720581600000, 20.34),\n",
       " (1720582200000, 19.96),\n",
       " (1720582800000, 19.73),\n",
       " (1720584000000, 19.4),\n",
       " (1720585800000, 18.66),\n",
       " (1720587000000, 18.22),\n",
       " (1720588200000, 17.87),\n",
       " (1720588800000, 17.77),\n",
       " (1720590000000, 17.65),\n",
       " (1720590600000, 17.52),\n",
       " (1720591800000, 16.87),\n",
       " (1720593000000, 16.72),\n",
       " (1720593600000, 16.74),\n",
       " (1720596600000, 16.13),\n",
       " (1720597200000, 15.72),\n",
       " (1720597800000, 15.59),\n",
       " (1720599000000, 15.41),\n",
       " (1720600800000, 15.44),\n",
       " (1720603200000, 14.78),\n",
       " (1720603800000, 14.68),\n",
       " (1720605000000, 14.81),\n",
       " (1720606200000, 14.28),\n",
       " (1720607400000, 14.12),\n",
       " (1720608000000, 14.21),\n",
       " (1720608600000, 14.33),\n",
       " (1720609800000, 14.21),\n",
       " (1720610400000, 14.22),\n",
       " (1720611600000, 14.02),\n",
       " (1720614600000, 13.78),\n",
       " (1720615800000, 13.88),\n",
       " (1720617000000, 13.94),\n",
       " (1720617600000, 14.01),\n",
       " (1720618800000, 14.38),\n",
       " (1720620000000, 15.05),\n",
       " (1720620600000, 15.47),\n",
       " (1720621800000, 17.13),\n",
       " (1720622400000, 17.58),\n",
       " (1720623000000, 18.07),\n",
       " (1720624800000, 19.7),\n",
       " (1720626000000, 21.04),\n",
       " (1720626600000, 21.44),\n",
       " (1720627200000, 21.98),\n",
       " (1720627800000, 22.45),\n",
       " (1720629000000, 23.59),\n",
       " (1720629600000, 23.92),\n",
       " (1720630800000, 24.54),\n",
       " (1720632000000, 24.77),\n",
       " (1720633200000, 25.15),\n",
       " (1720633800000, 25.27),\n",
       " (1720634400000, 25.64),\n",
       " (1720635000000, 25.77),\n",
       " (1720635600000, 25.94),\n",
       " (1720636800000, 25.73),\n",
       " (1720638000000, 25.44),\n",
       " (1720639200000, 25.3),\n",
       " (1720640400000, 25.41),\n",
       " (1720641000000, 25.68),\n",
       " (1720642200000, 25.72),\n",
       " (1720644600000, 26.32),\n",
       " (1720645800000, 26.94),\n",
       " (1720647600000, 27.0),\n",
       " (1720649400000, 27.28),\n",
       " (1720650600000, 27.22),\n",
       " (1720651800000, 27.44),\n",
       " (1720656000000, 27.89),\n",
       " (1720657200000, 27.67),\n",
       " (1720658400000, 27.44),\n",
       " (1720659000000, 27.5),\n",
       " (1720660200000, 26.89),\n",
       " (1720660800000, 26.52),\n",
       " (1720662000000, 25.88),\n",
       " (1720663200000, 25.22),\n",
       " (1720664400000, 24.56),\n",
       " (1720665600000, 23.91),\n",
       " (1720666800000, 22.76),\n",
       " (1720668600000, 21.27),\n",
       " (1720669200000, 20.85),\n",
       " (1720671000000, 19.68),\n",
       " (1720672800000, 19.19),\n",
       " (1720674000000, 18.94),\n",
       " (1720674600000, 18.7),\n",
       " (1720675800000, 18.42),\n",
       " (1720677000000, 17.89),\n",
       " (1720678200000, 17.12),\n",
       " (1720678800000, 16.69),\n",
       " (1720680000000, 16.29),\n",
       " (1720681200000, 16.11),\n",
       " (1720681800000, 15.92),\n",
       " (1720684200000, 15.34),\n",
       " (1720686000000, 15.2),\n",
       " (1720687200000, 14.89),\n",
       " (1720687800000, 14.77),\n",
       " (1720688400000, 14.74),\n",
       " (1720689000000, 14.55),\n",
       " (1720689600000, 14.44),\n",
       " (1720690800000, 14.22),\n",
       " (1720693800000, 14.07),\n",
       " (1720695000000, 14.02),\n",
       " (1720696800000, 13.99),\n",
       " (1720698000000, 13.81),\n",
       " (1720699200000, 13.74),\n",
       " (1720701000000, 13.85),\n",
       " (1720702200000, 14.13),\n",
       " (1720703400000, 14.29),\n",
       " (1720704000000, 14.37),\n",
       " (1720704600000, 14.35),\n",
       " (1720705200000, 14.41),\n",
       " (1720707600000, 14.7),\n",
       " (1720708800000, 14.74),\n",
       " (1720709400000, 14.95),\n",
       " (1720710600000, 15.75),\n",
       " (1720711800000, 16.21),\n",
       " (1720713000000, 17.16),\n",
       " (1720713600000, 17.76),\n",
       " (1720714800000, 18.84),\n",
       " (1720716000000, 20.75),\n",
       " (1720717200000, 20.94),\n",
       " (1720717800000, 20.87),\n",
       " (1720719000000, 21.19),\n",
       " (1720720200000, 21.83),\n",
       " (1720721400000, 22.18),\n",
       " (1720723200000, 23.42),\n",
       " (1720725000000, 23.26),\n",
       " (1720726200000, 23.24),\n",
       " (1720727400000, 23.91),\n",
       " (1720729200000, 25.17),\n",
       " (1720730400000, 25.39),\n",
       " (1720731000000, 25.51),\n",
       " (1720732800000, 26.28),\n",
       " (1720734000000, 26.26),\n",
       " (1720734600000, 26.19),\n",
       " (1720735800000, 25.84),\n",
       " (1720736400000, 25.83),\n",
       " (1720737000000, 25.54),\n",
       " (1720738200000, 25.64),\n",
       " (1720739400000, 25.3),\n",
       " (1720740000000, 25.28),\n",
       " (1720740600000, 25.37),\n",
       " (1720741200000, 25.41),\n",
       " (1720741800000, 25.62),\n",
       " (1720743600000, 25.71),\n",
       " (1720744800000, 24.89),\n",
       " (1720745400000, 24.92),\n",
       " (1720746600000, 24.52),\n",
       " (1720749000000, 23.43),\n",
       " (1720750200000, -99911999.0),\n",
       " (1720750800000, 20.95),\n",
       " (1720752000000, 20.06),\n",
       " (1720753200000, -99911999.0),\n",
       " (1720754400000, 19.08),\n",
       " (1720755600000, 18.67),\n",
       " (1720757400000, 18.13),\n",
       " (1720758600000, 17.69),\n",
       " (1720759200000, 17.5),\n",
       " (1720761000000, 16.96),\n",
       " (1720761600000, 16.86),\n",
       " (1720762800000, 16.67),\n",
       " (1720765200000, 16.3),\n",
       " (1720766400000, 16.27),\n",
       " (1720768200000, 16.05),\n",
       " (1720768800000, 15.95),\n",
       " (1720769400000, 15.88),\n",
       " (1720770600000, 15.77),\n",
       " (1720771800000, 15.62),\n",
       " (1720772400000, 15.66),\n",
       " (1720773600000, 15.58),\n",
       " (1720774800000, 15.74),\n",
       " (1720776000000, 15.61),\n",
       " (1720777200000, 15.59),\n",
       " (1720777800000, 15.54),\n",
       " (1720779000000, 15.44),\n",
       " (1720780200000, 15.49),\n",
       " (1720780800000, 15.53),\n",
       " (1720783200000, 15.88),\n",
       " (1720784400000, 15.65),\n",
       " (1720785000000, 15.5),\n",
       " (1720785600000, 15.45),\n",
       " (1720786800000, 15.19),\n",
       " (1720788000000, 15.3),\n",
       " (1720789200000, 15.25),\n",
       " (1720789800000, 15.21),\n",
       " (1720791000000, 15.21),\n",
       " (1720792200000, 15.25),\n",
       " (1720793400000, 15.21),\n",
       " (1720795200000, 15.42),\n",
       " (1720795800000, 15.42),\n",
       " (1720796400000, 15.49),\n",
       " (1720797600000, 15.71),\n",
       " (1720798800000, 16.48),\n",
       " (1720800000000, 17.1),\n",
       " (1720802400000, 18.52),\n",
       " (1720804200000, 19.31),\n",
       " (1720805400000, 20.02),\n",
       " (1720806000000, 20.51),\n",
       " (1720806600000, 20.86),\n",
       " (1720810200000, 22.58),\n",
       " (1720812000000, 22.74),\n",
       " (1720812600000, 22.85),\n",
       " (1720813200000, 22.97),\n",
       " (1720813800000, 23.07),\n",
       " (1720815000000, 22.42),\n",
       " (1720815600000, 22.41),\n",
       " (1720817400000, 22.64),\n",
       " (1720819200000, 22.54),\n",
       " (1720820400000, 22.25),\n",
       " (1720821000000, 22.11),\n",
       " (1720824000000, 22.16)]"
      ]
     },
     "execution_count": 127,
     "metadata": {},
     "output_type": "execute_result"
    }
   ],
   "source": [
    "rc_ts.range(\"weather_station:weather.gov:787SE:data:temperature\", \"-\", \"+\")"
   ]
  },
  {
   "cell_type": "code",
   "execution_count": null,
   "id": "ac3a77b1-7b8b-4157-ab78-d7d848307079",
   "metadata": {},
   "outputs": [],
   "source": []
  }
 ],
 "metadata": {
  "kernelspec": {
   "display_name": "Python 3 (ipykernel)",
   "language": "python",
   "name": "python3"
  },
  "language_info": {
   "codemirror_mode": {
    "name": "ipython",
    "version": 3
   },
   "file_extension": ".py",
   "mimetype": "text/x-python",
   "name": "python",
   "nbconvert_exporter": "python",
   "pygments_lexer": "ipython3",
   "version": "3.11.9"
  }
 },
 "nbformat": 4,
 "nbformat_minor": 5
}
