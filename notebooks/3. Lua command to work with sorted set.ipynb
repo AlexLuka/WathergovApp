{
 "cells": [
  {
   "cell_type": "code",
   "execution_count": 1,
   "id": "d3b4cfd9-723a-40db-9a6a-7b3edf31092b",
   "metadata": {},
   "outputs": [],
   "source": [
    "import sys\n",
    "\n",
    "from time import time\n",
    "from dotenv import load_dotenv\n",
    "\n",
    "sys.path.append(\"/Users/alexeylukyanov/Projects/WeatherData/src\")\n",
    "from weathergov.constants import APP_NAME\n",
    "from weathergov.utils.redis_utils import RedisClient, RedisKeys"
   ]
  },
  {
   "cell_type": "code",
   "execution_count": null,
   "id": "6192c501-f813-4454-bf27-c88fce134db0",
   "metadata": {},
   "outputs": [],
   "source": []
  },
  {
   "cell_type": "code",
   "execution_count": 2,
   "id": "20935853-42e5-456c-a985-8635d26900dd",
   "metadata": {},
   "outputs": [
    {
     "data": {
      "text/plain": [
       "True"
      ]
     },
     "execution_count": 2,
     "metadata": {},
     "output_type": "execute_result"
    }
   ],
   "source": [
    "load_dotenv()"
   ]
  },
  {
   "cell_type": "code",
   "execution_count": 3,
   "id": "958f996f-eb8c-44ad-aeaa-7dabdb435c72",
   "metadata": {},
   "outputs": [],
   "source": [
    "rc = RedisClient()"
   ]
  },
  {
   "cell_type": "code",
   "execution_count": 4,
   "id": "04a1127b-5899-4d87-81ea-2974bb325313",
   "metadata": {},
   "outputs": [
    {
     "data": {
      "text/plain": [
       "True"
      ]
     },
     "execution_count": 4,
     "metadata": {},
     "output_type": "execute_result"
    }
   ],
   "source": [
    "rc.rc.ping()"
   ]
  },
  {
   "cell_type": "markdown",
   "id": "095ddbf3-fb1e-44fb-8d56-205b7fa1cf20",
   "metadata": {},
   "source": [
    "Our goal is to create a script that does two commands as a transaction"
   ]
  },
  {
   "cell_type": "markdown",
   "id": "a5261896-7582-485b-b5e3-863c971886d4",
   "metadata": {},
   "source": [
    "First, create a test sorted set"
   ]
  },
  {
   "cell_type": "code",
   "execution_count": 140,
   "id": "3b65860d-72fd-407e-9720-e8a0ee8f5ad3",
   "metadata": {},
   "outputs": [],
   "source": [
    "tsi1 = int(time() * 1000)"
   ]
  },
  {
   "cell_type": "code",
   "execution_count": 141,
   "id": "fd32ed62-9375-4495-8f3f-503cd0fb57da",
   "metadata": {},
   "outputs": [
    {
     "data": {
      "text/plain": [
       "1721075844983"
      ]
     },
     "execution_count": 141,
     "metadata": {},
     "output_type": "execute_result"
    }
   ],
   "source": [
    "tsi1"
   ]
  },
  {
   "cell_type": "code",
   "execution_count": 142,
   "id": "eb9abe56-2b07-4514-9e28-6d9ca6c2f421",
   "metadata": {},
   "outputs": [],
   "source": [
    "tsi2 = int(time() * 1000)"
   ]
  },
  {
   "cell_type": "code",
   "execution_count": 143,
   "id": "9a8636ca-f8c5-45f4-a23f-0ddcb109fbc4",
   "metadata": {},
   "outputs": [
    {
     "data": {
      "text/plain": [
       "1721075846303"
      ]
     },
     "execution_count": 143,
     "metadata": {},
     "output_type": "execute_result"
    }
   ],
   "source": [
    "tsi2"
   ]
  },
  {
   "cell_type": "code",
   "execution_count": 144,
   "id": "e49529ad-9625-4633-9d9e-c83d61d78b1e",
   "metadata": {},
   "outputs": [
    {
     "data": {
      "text/plain": [
       "2"
      ]
     },
     "execution_count": 144,
     "metadata": {},
     "output_type": "execute_result"
    }
   ],
   "source": [
    "rc.rc.zadd(\"TestSet\", {\"val3\": tsi1, \"val4\": tsi2})"
   ]
  },
  {
   "cell_type": "raw",
   "id": "6579af56-2dac-4ee1-ba23-fec3db5e4fed",
   "metadata": {},
   "source": []
  },
  {
   "cell_type": "code",
   "execution_count": 145,
   "id": "fa2cb2d0-2dd3-41cd-86a4-cca04c047479",
   "metadata": {},
   "outputs": [],
   "source": [
    "rc.rc.zscore(\"TestSet\", \"val10\")"
   ]
  },
  {
   "cell_type": "code",
   "execution_count": 157,
   "id": "c921ff6b-c374-4a0f-b605-26221453bb02",
   "metadata": {},
   "outputs": [
    {
     "data": {
      "text/plain": [
       "[('val2', 1721076646117.854),\n",
       " ('val3', 1721076648107.386),\n",
       " ('val4', 1721076649350.741)]"
      ]
     },
     "execution_count": 157,
     "metadata": {},
     "output_type": "execute_result"
    }
   ],
   "source": [
    "rc.rc.zrange(\"TestSet\", 0, -1, withscores=True)"
   ]
  },
  {
   "cell_type": "code",
   "execution_count": 31,
   "id": "5d4e71ac-2aa8-4cda-9061-2f510ae99187",
   "metadata": {},
   "outputs": [],
   "source": [
    "script_text = f\"\"\"\n",
    "return \"Holla amigo\"\n",
    "\"\"\""
   ]
  },
  {
   "cell_type": "code",
   "execution_count": 35,
   "id": "f2a8b4b2-3d1f-446d-8aae-e50fc292ba7e",
   "metadata": {},
   "outputs": [],
   "source": [
    "script = rc.rc.register_script(script_text)"
   ]
  },
  {
   "cell_type": "code",
   "execution_count": 36,
   "id": "f80c4417-c390-4e36-b178-f78d9c8bbed2",
   "metadata": {},
   "outputs": [
    {
     "data": {
      "text/plain": [
       "'Holla amigo'"
      ]
     },
     "execution_count": 36,
     "metadata": {},
     "output_type": "execute_result"
    }
   ],
   "source": [
    "script()"
   ]
  },
  {
   "cell_type": "code",
   "execution_count": 150,
   "id": "cf02a129-04cf-44a7-a297-4b15aa71acb9",
   "metadata": {},
   "outputs": [
    {
     "data": {
      "text/plain": [
       "['val3', '1721075844983']"
      ]
     },
     "execution_count": 150,
     "metadata": {},
     "output_type": "execute_result"
    }
   ],
   "source": [
    "rc.rc.eval(\"\"\"\n",
    "-- Get the station ID with the latest update time\n",
    "local res = redis.call(\"ZPOPMIN\", \"TestSet\")\n",
    "local time = redis.call(\"TIME\")\n",
    "\n",
    "-- Set the key to the current timestamp\n",
    "redis.call(\"ZADD\", \"TestSet\", time[1] * 1000 + time[2] / 1000, res[1])\n",
    "\n",
    "-- Return the last time when it calculations were done\n",
    "return res\n",
    "\"\"\", 0)"
   ]
  },
  {
   "cell_type": "code",
   "execution_count": 148,
   "id": "2ec5447d-a3e6-4818-a2c0-a57edb88a91f",
   "metadata": {},
   "outputs": [
    {
     "data": {
      "text/plain": [
       "[('val2', 1721075793558.0),\n",
       " ('val3', 1721075844983.0),\n",
       " ('val4', 1721075846303.0)]"
      ]
     },
     "execution_count": 148,
     "metadata": {},
     "output_type": "execute_result"
    }
   ],
   "source": [
    "[('val2', 1721075793558.0),\n",
    " ('val3', 1721075844983.0),\n",
    " ('val4', 1721075846303.0)]"
   ]
  },
  {
   "cell_type": "code",
   "execution_count": 152,
   "id": "f51b6390-c110-4a56-9c65-991c12d684b8",
   "metadata": {},
   "outputs": [],
   "source": [
    "script = rc.rc.register_script(\"\"\"\n",
    "        -- Get the station ID with the latest update time\n",
    "        local res = redis.call(\"ZPOPMIN\", \"TestSet\")\n",
    "        local time = redis.call(\"TIME\")\n",
    "\n",
    "        -- Set the key to the current timestamp\n",
    "        redis.call(\"ZADD\", \"TestSet\", time[1] * 1000 + time[2] / 1000, res[1])\n",
    "\n",
    "        -- Return the last time when it calculations were done\n",
    "        return res\n",
    "        \"\"\")"
   ]
  },
  {
   "cell_type": "code",
   "execution_count": 156,
   "id": "7bfe8922-6e6f-452d-9af0-da096b01ab8d",
   "metadata": {},
   "outputs": [
    {
     "data": {
      "text/plain": [
       "['val4', '1721076641415.421']"
      ]
     },
     "execution_count": 156,
     "metadata": {},
     "output_type": "execute_result"
    }
   ],
   "source": [
    "script()"
   ]
  },
  {
   "cell_type": "code",
   "execution_count": null,
   "id": "0b0e074e-7ccf-4ba3-a2a8-1e3cd9dda308",
   "metadata": {},
   "outputs": [],
   "source": []
  },
  {
   "cell_type": "markdown",
   "id": "476e19ad-cf0c-48d0-8dde-3a665ed9a9e9",
   "metadata": {},
   "source": [
    "### Check how many keys we actually have right now, before the stations load"
   ]
  },
  {
   "cell_type": "code",
   "execution_count": 6,
   "id": "9cd9ceda-e0f8-49ad-a512-5e2750cea1bd",
   "metadata": {},
   "outputs": [
    {
     "data": {
      "text/plain": [
       "['0007W', '-1']"
      ]
     },
     "execution_count": 6,
     "metadata": {},
     "output_type": "execute_result"
    }
   ],
   "source": [
    "rc.script1()"
   ]
  },
  {
   "cell_type": "code",
   "execution_count": 7,
   "id": "3063ae8c-b51c-456f-9b47-4cd5fbb99343",
   "metadata": {},
   "outputs": [
    {
     "data": {
      "text/plain": [
       "1721080725618.104"
      ]
     },
     "execution_count": 7,
     "metadata": {},
     "output_type": "execute_result"
    }
   ],
   "source": [
    "rc.rc.zscore(RedisKeys.STATION_RT_TABLE, \"0007W\")"
   ]
  },
  {
   "cell_type": "code",
   "execution_count": 8,
   "id": "e51717ba-e3ca-4e37-bf60-64103517c79c",
   "metadata": {},
   "outputs": [
    {
     "data": {
      "text/plain": [
       "[('val2', 1721076646117.854),\n",
       " ('val3', 1721076648107.386),\n",
       " ('val4', 1721076649350.741)]"
      ]
     },
     "execution_count": 8,
     "metadata": {},
     "output_type": "execute_result"
    }
   ],
   "source": [
    "rc.rc.zrange(\"TestSet\", 0, -1, withscores=True)"
   ]
  },
  {
   "cell_type": "code",
   "execution_count": 14,
   "id": "66d6deca-e76f-435a-9234-57a9ae5dd65a",
   "metadata": {},
   "outputs": [
    {
     "data": {
      "text/plain": [
       "float"
      ]
     },
     "execution_count": 14,
     "metadata": {},
     "output_type": "execute_result"
    }
   ],
   "source": [
    "type(rc.rc.zscore(\"TestSet\", \"val2\"))"
   ]
  },
  {
   "cell_type": "code",
   "execution_count": 11,
   "id": "57702ab9-9b3c-48a7-b633-9bc276e80ad7",
   "metadata": {},
   "outputs": [],
   "source": [
    "res = rc.rc.zscore(\"TestSet\", \"val20\")"
   ]
  },
  {
   "cell_type": "code",
   "execution_count": 12,
   "id": "0219f87b-cf12-4362-8291-5c0d3972a3c7",
   "metadata": {},
   "outputs": [
    {
     "data": {
      "text/plain": [
       "True"
      ]
     },
     "execution_count": 12,
     "metadata": {},
     "output_type": "execute_result"
    }
   ],
   "source": [
    "res is None"
   ]
  },
  {
   "cell_type": "code",
   "execution_count": null,
   "id": "baf531dc-539b-45e0-a4a3-5718e532fd43",
   "metadata": {},
   "outputs": [],
   "source": []
  },
  {
   "cell_type": "code",
   "execution_count": null,
   "id": "718e4e9e-2635-41db-ad94-37647eace5ec",
   "metadata": {},
   "outputs": [],
   "source": []
  },
  {
   "cell_type": "code",
   "execution_count": 15,
   "id": "eb8b9ab6-9bfd-4f81-92ad-931819fcc0c3",
   "metadata": {},
   "outputs": [
    {
     "data": {
      "text/plain": [
       "'1720890011'"
      ]
     },
     "execution_count": 15,
     "metadata": {},
     "output_type": "execute_result"
    }
   ],
   "source": [
    "rc.rc.get(\"weather_station:weather.gov:last_data_update_ts\")"
   ]
  },
  {
   "cell_type": "code",
   "execution_count": 16,
   "id": "6a899dae-65f7-46cf-85ca-06c4ec70a62d",
   "metadata": {},
   "outputs": [
    {
     "data": {
      "text/plain": [
       "True"
      ]
     },
     "execution_count": 16,
     "metadata": {},
     "output_type": "execute_result"
    }
   ],
   "source": [
    "rc.rc.set(\"weather_station:weather.gov:last_data_update_ts\", 0)"
   ]
  },
  {
   "cell_type": "code",
   "execution_count": 18,
   "id": "2c116a3e-0acb-4b4e-8512-3c29738df04a",
   "metadata": {},
   "outputs": [
    {
     "data": {
      "text/plain": [
       "46483"
      ]
     },
     "execution_count": 18,
     "metadata": {},
     "output_type": "execute_result"
    }
   ],
   "source": [
    "len(rc.rc.zrange(RedisKeys.STATION_RT_TABLE, 0, -1))"
   ]
  },
  {
   "cell_type": "code",
   "execution_count": 19,
   "id": "415bcce7-d3bf-49db-964e-9097d6ca5a0b",
   "metadata": {},
   "outputs": [
    {
     "data": {
      "text/plain": [
       "1113"
      ]
     },
     "execution_count": 19,
     "metadata": {},
     "output_type": "execute_result"
    }
   ],
   "source": [
    "rc.rc.llen(\"weather_station_process_queue\")"
   ]
  },
  {
   "cell_type": "code",
   "execution_count": null,
   "id": "c40335db-f870-4d25-b0b4-806d522f5f9f",
   "metadata": {},
   "outputs": [],
   "source": []
  }
 ],
 "metadata": {
  "kernelspec": {
   "display_name": "Python 3 (ipykernel)",
   "language": "python",
   "name": "python3"
  },
  "language_info": {
   "codemirror_mode": {
    "name": "ipython",
    "version": 3
   },
   "file_extension": ".py",
   "mimetype": "text/x-python",
   "name": "python",
   "nbconvert_exporter": "python",
   "pygments_lexer": "ipython3",
   "version": "3.11.9"
  }
 },
 "nbformat": 4,
 "nbformat_minor": 5
}
